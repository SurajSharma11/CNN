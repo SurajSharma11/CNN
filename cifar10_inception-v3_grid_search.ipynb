{
 "cells": [
  {
   "cell_type": "markdown",
   "metadata": {},
   "source": [
    "## Import modules"
   ]
  },
  {
   "cell_type": "code",
   "execution_count": 1,
   "metadata": {},
   "outputs": [
    {
     "name": "stderr",
     "output_type": "stream",
     "text": [
      "/home/vivekb/.local/lib/python2.7/site-packages/h5py/__init__.py:36: FutureWarning: Conversion of the second argument of issubdtype from `float` to `np.floating` is deprecated. In future, it will be treated as `np.float64 == np.dtype(float).type`.\n",
      "  from ._conv import register_converters as _register_converters\n",
      "Using TensorFlow backend.\n"
     ]
    }
   ],
   "source": [
    "import itertools\n",
    "import numpy as np\n",
    "import pandas as pd\n",
    "from PIL import Image\n",
    "\n",
    "from keras.models import Model\n",
    "from keras.layers import Flatten, Dense, Dropout\n",
    "from keras.layers import Convolution2D, MaxPooling2D, BatchNormalization\n",
    "from keras.utils import to_categorical\n",
    "from keras.optimizers import Adam, SGD\n",
    "from keras.preprocessing.image import ImageDataGenerator\n",
    "from keras.applications.inception_v3 import InceptionV3, GlobalAveragePooling2D"
   ]
  },
  {
   "cell_type": "markdown",
   "metadata": {},
   "source": [
    "## Reading data"
   ]
  },
  {
   "cell_type": "code",
   "execution_count": 2,
   "metadata": {},
   "outputs": [
    {
     "name": "stdout",
     "output_type": "stream",
     "text": [
      "('train_data:', (50000, 32, 32, 3))\n",
      "('train_labels:', (50000, 1))\n",
      "('test_data:', (10000, 32, 32, 3))\n",
      "('test_labels:', (10000, 1))\n"
     ]
    }
   ],
   "source": [
    "import numpy as np\n",
    "train = np.load('cifar_train.npz')\n",
    "x_train = train['data']\n",
    "train_labels = train['labels']\n",
    "\n",
    "test = np.load('cifar_test.npz')\n",
    "x_test = test['data']\n",
    "test_labels = test['labels']\n",
    "\n",
    "print('train_data:', x_train.shape)\n",
    "print('train_labels:', train_labels.shape)\n",
    "print('test_data:', x_test.shape)\n",
    "print('test_labels:', test_labels.shape)"
   ]
  },
  {
   "cell_type": "code",
   "execution_count": 3,
   "metadata": {},
   "outputs": [
    {
     "name": "stdout",
     "output_type": "stream",
     "text": [
      "(50000, 10)\n",
      "(10000, 10)\n"
     ]
    }
   ],
   "source": [
    "batch_size = 64\n",
    "nb_classes = 10\n",
    "\n",
    "img_rows, img_cols = 32, 32    # input image dimensions\n",
    "img_channels = 3               # The CIFAR10 images are RGB.\n",
    "\n",
    "# Convert class vectors to binary class matrices.\n",
    "from keras.utils import to_categorical\n",
    "y_train = to_categorical(train_labels, nb_classes)\n",
    "y_test = to_categorical(test_labels, nb_classes)\n",
    "\n",
    "print(y_train.shape)\n",
    "print(y_test.shape)"
   ]
  },
  {
   "cell_type": "markdown",
   "metadata": {},
   "source": [
    "## Resize all the images "
   ]
  },
  {
   "cell_type": "code",
   "execution_count": 4,
   "metadata": {},
   "outputs": [],
   "source": [
    "def resize(p, size):\n",
    "    return Image.fromarray(p).resize(size=(size,size))\n",
    "\n",
    "def resize_all(arr, size):\n",
    "    t = []\n",
    "    for i in range(arr.shape[0]):\n",
    "        t.append(np.array(resize(arr[i], size)))\n",
    "\n",
    "    return(np.array(t))"
   ]
  },
  {
   "cell_type": "code",
   "execution_count": 5,
   "metadata": {},
   "outputs": [],
   "source": [
    "x_train = resize_all(x_train, 224)\n",
    "x_test = resize_all(x_test, 224)"
   ]
  },
  {
   "cell_type": "code",
   "execution_count": 6,
   "metadata": {},
   "outputs": [],
   "source": [
    "# Normalize the data\n",
    "x_train = x_train.astype('float32')\n",
    "x_test = x_test.astype('float32')\n",
    "x_train /= 255.\n",
    "x_test /= 255."
   ]
  },
  {
   "cell_type": "code",
   "execution_count": 7,
   "metadata": {},
   "outputs": [
    {
     "name": "stdout",
     "output_type": "stream",
     "text": [
      "(50000, 224, 224, 3)\n",
      "(10000, 224, 224, 3)\n"
     ]
    }
   ],
   "source": [
    "print(x_train.shape)\n",
    "print(x_test.shape)"
   ]
  },
  {
   "cell_type": "markdown",
   "metadata": {},
   "source": [
    "## CNN Architecture"
   ]
  },
  {
   "cell_type": "code",
   "execution_count": 8,
   "metadata": {},
   "outputs": [],
   "source": [
    "def model_train(optimizer, lr_rate, freez, nb_epoch=2, n_samples=2000):\n",
    "    tag = 'model_'+optimizer+'_lr_'+str(lr_rate)+'_freeze_'+str(freez)\n",
    "    trained_model = InceptionV3(include_top=False,weights='imagenet')\n",
    "    x = trained_model.output\n",
    "    x = GlobalAveragePooling2D()(x)\n",
    "    x = BatchNormalization()(x)\n",
    "    pred_inception= Dense(10,activation='softmax')(x)\n",
    "    model = Model(inputs=trained_model.input,outputs=pred_inception)\n",
    "\n",
    "    #making the layers of vgg16 non-trainable\n",
    "    for layer in trained_model.layers:\n",
    "        layer.trainable=freez\n",
    "\n",
    "    #compiling the model\n",
    "    if optimizer=='adam':\n",
    "        optim = Adam(lr=lr_rate)\n",
    "    elif optimizer=='sgd':\n",
    "        optim = SGD(lr=lr_rate)\n",
    "    model.compile(loss='categorical_crossentropy',metrics=['accuracy'],optimizer=optim)\n",
    "\n",
    "    train_datagen = ImageDataGenerator(rescale=None, \n",
    "                                       height_shift_range=0.2, \n",
    "                                       width_shift_range=0.2,\n",
    "                                       horizontal_flip=True, \n",
    "                                       rotation_range=10)\n",
    "    validation_datagen = ImageDataGenerator(rescale=None)\n",
    "\n",
    "    train_generator = train_datagen.flow(x=x_train[:n_samples], y=y_train[:n_samples],batch_size=batch_size)\n",
    "    validation_generator = validation_datagen.flow(x=x_test, y=y_test,batch_size=batch_size)\n",
    "\n",
    "    hist = model.fit_generator(train_generator,\n",
    "                        steps_per_epoch=train_generator.n//batch_size, # '//' in python returns only the quotient\n",
    "                        epochs=nb_epoch,\n",
    "                        validation_data=validation_generator,\n",
    "                        validation_steps=validation_generator.n//batch_size, \n",
    "                        verbose=0).history\n",
    "    \n",
    "    model.save(tag+'.h5')\n",
    "    np.save(tag+'.npy', hist)\n",
    "    \n",
    "    t_acc = np.min(hist['acc'])\n",
    "    v_acc = np.min(hist['val_acc'])\n",
    "    return(t_acc, v_acc)"
   ]
  },
  {
   "cell_type": "code",
   "execution_count": 9,
   "metadata": {},
   "outputs": [
    {
     "name": "stdout",
     "output_type": "stream",
     "text": [
      "[('adam', 0.01, True), ('adam', 0.01, False), ('adam', 0.001, True), ('adam', 0.001, False), ('sgd', 0.01, True), ('sgd', 0.01, False), ('sgd', 0.001, True), ('sgd', 0.001, False)]\n"
     ]
    }
   ],
   "source": [
    "optimizer_list = ['adam', 'sgd']\n",
    "lr_rate_list = [0.01,0.001]\n",
    "freez_list = [True, False]\n",
    "\n",
    "gs_list = list(itertools.product(optimizer_list, lr_rate_list, freez_list))\n",
    "print(gs_list)"
   ]
  },
  {
   "cell_type": "code",
   "execution_count": 10,
   "metadata": {},
   "outputs": [
    {
     "name": "stdout",
     "output_type": "stream",
     "text": [
      "Running combination - Optimizer:adam, Learning Rate:0.01, Freeze Weights:True\n",
      "WARNING:tensorflow:From /home/vivekb/.local/lib/python2.7/site-packages/keras/backend/tensorflow_backend.py:1290: calling reduce_mean (from tensorflow.python.ops.math_ops) with keep_dims is deprecated and will be removed in a future version.\n",
      "Instructions for updating:\n",
      "keep_dims is deprecated, use keepdims instead\n",
      "WARNING:tensorflow:From /home/vivekb/.local/lib/python2.7/site-packages/keras/backend/tensorflow_backend.py:2755: calling reduce_sum (from tensorflow.python.ops.math_ops) with keep_dims is deprecated and will be removed in a future version.\n",
      "Instructions for updating:\n",
      "keep_dims is deprecated, use keepdims instead\n",
      "Running combination - Optimizer:adam, Learning Rate:0.01, Freeze Weights:False\n",
      "Running combination - Optimizer:adam, Learning Rate:0.001, Freeze Weights:True\n",
      "Running combination - Optimizer:adam, Learning Rate:0.001, Freeze Weights:False\n",
      "Running combination - Optimizer:sgd, Learning Rate:0.01, Freeze Weights:True\n",
      "Running combination - Optimizer:sgd, Learning Rate:0.01, Freeze Weights:False\n",
      "Running combination - Optimizer:sgd, Learning Rate:0.001, Freeze Weights:True\n",
      "Running combination - Optimizer:sgd, Learning Rate:0.001, Freeze Weights:False\n"
     ]
    }
   ],
   "source": [
    "tr_acc = []\n",
    "val_acc = []\n",
    "for op, lr, fr in gs_list:\n",
    "    print('Running combination - Optimizer:{}, Learning Rate:{}, Freeze Weights:{}'.format(op, lr, fr))\n",
    "    r1, r2 = model_train(op, lr, fr)\n",
    "    tr_acc.append(r1)\n",
    "    val_acc.append(r2)"
   ]
  },
  {
   "cell_type": "code",
   "execution_count": 11,
   "metadata": {},
   "outputs": [],
   "source": [
    "df = pd.DataFrame(gs_list)\n",
    "df.columns = ['Optimizer', 'Learning Rate', 'Freeze Weights']\n",
    "df['Train Acc'] = tr_acc\n",
    "df['Val Acc'] = val_acc"
   ]
  },
  {
   "cell_type": "code",
   "execution_count": 12,
   "metadata": {},
   "outputs": [
    {
     "data": {
      "text/html": [
       "<div>\n",
       "<style scoped>\n",
       "    .dataframe tbody tr th:only-of-type {\n",
       "        vertical-align: middle;\n",
       "    }\n",
       "\n",
       "    .dataframe tbody tr th {\n",
       "        vertical-align: top;\n",
       "    }\n",
       "\n",
       "    .dataframe thead th {\n",
       "        text-align: right;\n",
       "    }\n",
       "</style>\n",
       "<table border=\"1\" class=\"dataframe\">\n",
       "  <thead>\n",
       "    <tr style=\"text-align: right;\">\n",
       "      <th></th>\n",
       "      <th>Optimizer</th>\n",
       "      <th>Learning Rate</th>\n",
       "      <th>Freeze Weights</th>\n",
       "      <th>Train Acc</th>\n",
       "      <th>Val Acc</th>\n",
       "    </tr>\n",
       "  </thead>\n",
       "  <tbody>\n",
       "    <tr>\n",
       "      <th>0</th>\n",
       "      <td>adam</td>\n",
       "      <td>0.010</td>\n",
       "      <td>True</td>\n",
       "      <td>0.096074</td>\n",
       "      <td>0.099860</td>\n",
       "    </tr>\n",
       "    <tr>\n",
       "      <th>1</th>\n",
       "      <td>adam</td>\n",
       "      <td>0.010</td>\n",
       "      <td>False</td>\n",
       "      <td>0.462198</td>\n",
       "      <td>0.534655</td>\n",
       "    </tr>\n",
       "    <tr>\n",
       "      <th>2</th>\n",
       "      <td>adam</td>\n",
       "      <td>0.001</td>\n",
       "      <td>True</td>\n",
       "      <td>0.410282</td>\n",
       "      <td>0.099436</td>\n",
       "    </tr>\n",
       "    <tr>\n",
       "      <th>3</th>\n",
       "      <td>adam</td>\n",
       "      <td>0.001</td>\n",
       "      <td>False</td>\n",
       "      <td>0.316532</td>\n",
       "      <td>0.568810</td>\n",
       "    </tr>\n",
       "    <tr>\n",
       "      <th>4</th>\n",
       "      <td>sgd</td>\n",
       "      <td>0.010</td>\n",
       "      <td>True</td>\n",
       "      <td>0.444556</td>\n",
       "      <td>0.503305</td>\n",
       "    </tr>\n",
       "    <tr>\n",
       "      <th>5</th>\n",
       "      <td>sgd</td>\n",
       "      <td>0.010</td>\n",
       "      <td>False</td>\n",
       "      <td>0.211694</td>\n",
       "      <td>0.362480</td>\n",
       "    </tr>\n",
       "    <tr>\n",
       "      <th>6</th>\n",
       "      <td>sgd</td>\n",
       "      <td>0.001</td>\n",
       "      <td>True</td>\n",
       "      <td>0.155242</td>\n",
       "      <td>0.207532</td>\n",
       "    </tr>\n",
       "    <tr>\n",
       "      <th>7</th>\n",
       "      <td>sgd</td>\n",
       "      <td>0.001</td>\n",
       "      <td>False</td>\n",
       "      <td>0.121976</td>\n",
       "      <td>0.161959</td>\n",
       "    </tr>\n",
       "  </tbody>\n",
       "</table>\n",
       "</div>"
      ],
      "text/plain": [
       "  Optimizer  Learning Rate  Freeze Weights  Train Acc   Val Acc\n",
       "0      adam          0.010            True   0.096074  0.099860\n",
       "1      adam          0.010           False   0.462198  0.534655\n",
       "2      adam          0.001            True   0.410282  0.099436\n",
       "3      adam          0.001           False   0.316532  0.568810\n",
       "4       sgd          0.010            True   0.444556  0.503305\n",
       "5       sgd          0.010           False   0.211694  0.362480\n",
       "6       sgd          0.001            True   0.155242  0.207532\n",
       "7       sgd          0.001           False   0.121976  0.161959"
      ]
     },
     "execution_count": 12,
     "metadata": {},
     "output_type": "execute_result"
    }
   ],
   "source": [
    "df"
   ]
  },
  {
   "cell_type": "code",
   "execution_count": null,
   "metadata": {},
   "outputs": [],
   "source": []
  }
 ],
 "metadata": {
  "kernelspec": {
   "display_name": "Python 3",
   "language": "python",
   "name": "python3"
  },
  "language_info": {
   "codemirror_mode": {
    "name": "ipython",
    "version": 3
   },
   "file_extension": ".py",
   "mimetype": "text/x-python",
   "name": "python",
   "nbconvert_exporter": "python",
   "pygments_lexer": "ipython3",
   "version": "3.6.5"
  }
 },
 "nbformat": 4,
 "nbformat_minor": 2
}
